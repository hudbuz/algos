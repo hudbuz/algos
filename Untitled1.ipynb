{
 "cells": [
  {
   "cell_type": "code",
   "execution_count": 1,
   "metadata": {
    "collapsed": true
   },
   "outputs": [],
   "source": [
    "import subprocess\n",
    "import re"
   ]
  },
  {
   "cell_type": "code",
   "execution_count": 2,
   "metadata": {},
   "outputs": [
    {
     "name": "stdout",
     "output_type": "stream",
     "text": [
      "total 2484\r\n",
      "drwxrwxr-x  5 hudson hudson    4096 Mar 28 15:25 \u001b[0m\u001b[01;34m.\u001b[0m/\r\n",
      "drwxrwxr-x 42 hudson hudson    4096 Mar 24 14:57 \u001b[01;34m..\u001b[0m/\r\n",
      "-rw-rw-r--  1 hudson hudson   71358 Mar 28 14:55 ACT 68C Answers.pdf\r\n",
      "-rw-------  1 hudson hudson   76134 Mar 28 14:48 Check 123194.pdf\r\n",
      "-rw-rw-r--  1 hudson hudson   25252 Mar 26 20:23 Dynamic problems.ipynb\r\n",
      "-rw-rw-r--  1 hudson hudson    8512 Mar 26 11:12 Fair Carpool.ipynb\r\n",
      "-rw-rw-r--  1 hudson hudson   17452 Mar 26 18:45 G4G strings-arrays.ipynb\r\n",
      "drwxrwxr-x  8 hudson hudson    4096 Mar 26 20:24 \u001b[01;34m.git\u001b[0m/\r\n",
      "drwxr-xr-x  2 hudson hudson    4096 Mar 28 14:48 \u001b[01;34m.ipynb_checkpoints\u001b[0m/\r\n",
      "drwxrwxr-x  5 hudson hudson    4096 Mar 24 18:37 \u001b[01;34mitem-count-test\u001b[0m/\r\n",
      "-rw-rw-r--  1 hudson hudson 2280067 Mar 28 15:24 SCRP-Middle18032815320.pdf\r\n",
      "-rw-rw-r--  1 hudson hudson    9762 Mar 28 15:18 Untitled1.ipynb\r\n",
      "-rw-rw-r--  1 hudson hudson    9942 Mar 28 15:25 Untitled.ipynb\r\n"
     ]
    }
   ],
   "source": [
    "ls -la"
   ]
  },
  {
   "cell_type": "code",
   "execution_count": 29,
   "metadata": {},
   "outputs": [
    {
     "name": "stdout",
     "output_type": "stream",
     "text": [
      "\f",
      "\f",
      "\f",
      "\f",
      "\f",
      "\f",
      "\f",
      "\f",
      "\f",
      "\f",
      "\f",
      "\f",
      "\n"
     ]
    }
   ],
   "source": [
    "output = subprocess.check_output([\"less\",\"SCRP-Middle18032815320.pdf\"])\n"
   ]
  },
  {
   "cell_type": "code",
   "execution_count": 30,
   "metadata": {},
   "outputs": [
    {
     "ename": "TypeError",
     "evalue": "a bytes-like object is required, not 'str'",
     "output_type": "error",
     "traceback": [
      "\u001b[0;31m---------------------------------------------------------------------------\u001b[0m",
      "\u001b[0;31mTypeError\u001b[0m                                 Traceback (most recent call last)",
      "\u001b[0;32m<ipython-input-30-4f4041de07d2>\u001b[0m in \u001b[0;36m<module>\u001b[0;34m()\u001b[0m\n\u001b[0;32m----> 1\u001b[0;31m \u001b[0moutput\u001b[0m\u001b[0;34m.\u001b[0m\u001b[0mtranslate\u001b[0m\u001b[0;34m(\u001b[0m\u001b[0;34m'utf-8'\u001b[0m\u001b[0;34m)\u001b[0m\u001b[0;34m\u001b[0m\u001b[0m\n\u001b[0m",
      "\u001b[0;31mTypeError\u001b[0m: a bytes-like object is required, not 'str'"
     ]
    }
   ],
   "source": [
    "p"
   ]
  },
  {
   "cell_type": "code",
   "execution_count": null,
   "metadata": {},
   "outputs": [],
   "source": [
    "output"
   ]
  },
  {
   "cell_type": "code",
   "execution_count": null,
   "metadata": {
    "collapsed": true
   },
   "outputs": [],
   "source": []
  }
 ],
 "metadata": {
  "kernelspec": {
   "display_name": "Python 3",
   "language": "python",
   "name": "python3"
  },
  "language_info": {
   "codemirror_mode": {
    "name": "ipython",
    "version": 3
   },
   "file_extension": ".py",
   "mimetype": "text/x-python",
   "name": "python",
   "nbconvert_exporter": "python",
   "pygments_lexer": "ipython3",
   "version": "3.6.1"
  }
 },
 "nbformat": 4,
 "nbformat_minor": 2
}
