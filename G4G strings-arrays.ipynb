{
 "cells": [
  {
   "cell_type": "code",
   "execution_count": 57,
   "metadata": {
    "collapsed": true
   },
   "outputs": [],
   "source": [
    "def reverse_array(array):\n",
    "    leng = len(array)\n",
    "\n",
    "    copy = [None for i in range(0,leng)]\n",
    "    print(copy)\n",
    "    r = leng -1\n",
    "    l = 0\n",
    "    \n",
    "    while l < r:\n",
    "        if array[l] in ('%','$',',','!') and array[r] in ('%','$',',','!'):\n",
    "                copy[l] = array[l]\n",
    "                copy[r] = array[r]\n",
    "                l += 1\n",
    "                r -= 1\n",
    "        elif not array[l] in  ('%','$',',','!') and not array[r] in  ('%','$',',','!'):\n",
    "            copy[l] = array[r]\n",
    "            copy[r] = array[l]\n",
    "            l += 1\n",
    "            r -= 1\n",
    "        elif array[l] in ('%','$',',','!'):\n",
    "            copy[l] = array[l] \n",
    "            l +=  1\n",
    "        elif array[r] in ('%','$',',','!'):\n",
    "            copy[r] = array[r]\n",
    "            r -= 1\n",
    "    return copy"
   ]
  },
  {
   "cell_type": "code",
   "execution_count": 101,
   "metadata": {
    "collapsed": true
   },
   "outputs": [],
   "source": [
    "def all_palindromes(string):\n",
    "    output = []\n",
    "    for ix,i in enumerate(string):\n",
    "        pal = {}\n",
    "        pal[i] = 1\n",
    "        leng = 1\n",
    "        for sx,s in enumerate(string[ix+1:]):\n",
    "            if not s in pal:\n",
    "                pal[s] = 1\n",
    "            else:\n",
    "                pal[s] += 1\n",
    "            leng +=1\n",
    "            if leng >=3:\n",
    "                output.append(check_pal_dict(pal))\n",
    "    return [o for o in output if not o is None]\n",
    "            \n",
    "def check_pal_dict(dtc):\n",
    "    print('hit')\n",
    "    count = 0\n",
    "    newstr = ''\n",
    "    for k,v in dtc.items():\n",
    "        if v == 1:\n",
    "            count += 1\n",
    "        newstr += k*v\n",
    "    if count > 1:\n",
    "        return None\n",
    "    else:\n",
    "        return newstr"
   ]
  },
  {
   "cell_type": "code",
   "execution_count": 193,
   "metadata": {
    "collapsed": true
   },
   "outputs": [],
   "source": [
    "def count_triplets_with_sum_less_than_n(array,total):\n",
    "    output = []\n",
    "    for i,a in enumerate(array):\n",
    "        if not a > total:\n",
    "            sumn = a\n",
    "            ns = [a]\n",
    "            \n",
    "            for si,s in enumerate(array[i+1:]):\n",
    "                if not s > total:\n",
    "                    sumn +=s\n",
    "                    ns.append(s)\n",
    "                    print(ns)\n",
    "                    if sumn < total and len(ns) == 3:\n",
    "                        output.append([n for n in ns])\n",
    "                        sumn -= ns.pop()\n",
    "    return output,len(output)\n",
    "\n",
    "def count_triplets(array,total):\n",
    "    output = 0\n",
    "    sarray = sorted(array)\n",
    "    for i,a in enumerate(array):\n",
    "        if not a >= total:\n",
    "            sumn = a\n",
    "            \n",
    "            l = i +1\n",
    "            r = len(sarray) -1\n",
    "            while l < r:\n",
    "                print(i,l,r,sarray)\n",
    "                if a+ array[l] + array[r] >= total:\n",
    "                    r -= 1\n",
    "                else:    \n",
    "                    output += (r-l)\n",
    "                    l += 1\n",
    "                    \n",
    "            \n",
    "                \n",
    "    return output"
   ]
  },
  {
   "cell_type": "code",
   "execution_count": 183,
   "metadata": {},
   "outputs": [
    {
     "name": "stdout",
     "output_type": "stream",
     "text": [
      "[5, 1]\n",
      "[5, 1, 3]\n",
      "[5, 1, 4]\n",
      "[5, 1, 7]\n",
      "[1, 3]\n",
      "[1, 3, 4]\n",
      "[1, 3, 7]\n",
      "[3, 4]\n",
      "[3, 4, 7]\n",
      "[4, 7]\n"
     ]
    },
    {
     "data": {
      "text/plain": [
       "([[5, 1, 3], [5, 1, 4], [1, 3, 4], [1, 3, 7]], 4)"
      ]
     },
     "execution_count": 183,
     "metadata": {},
     "output_type": "execute_result"
    }
   ],
   "source": [
    "count_triplets_with_sum_less_than_n([5, 1, 3, 4, 7],12)"
   ]
  },
  {
   "cell_type": "code",
   "execution_count": 194,
   "metadata": {},
   "outputs": [
    {
     "name": "stdout",
     "output_type": "stream",
     "text": [
      "0 1 4 [1, 3, 4, 5, 7]\n",
      "0 1 3 [1, 3, 4, 5, 7]\n",
      "0 2 3 [1, 3, 4, 5, 7]\n",
      "1 2 4 [1, 3, 4, 5, 7]\n",
      "1 3 4 [1, 3, 4, 5, 7]\n",
      "2 3 4 [1, 3, 4, 5, 7]\n"
     ]
    },
    {
     "data": {
      "text/plain": [
       "4"
      ]
     },
     "execution_count": 194,
     "metadata": {},
     "output_type": "execute_result"
    }
   ],
   "source": [
    "count_triplets([5, 1, 3, 4, 7],12)"
   ]
  },
  {
   "cell_type": "code",
   "execution_count": 339,
   "metadata": {
    "collapsed": true
   },
   "outputs": [],
   "source": [
    "def generate_all_possible_sorted_arrays(arrayA,arrayB):\n",
    "    \n",
    "    for ix,b in enumerate(arrayB):\n",
    "        if b > arrayA[0]:\n",
    "            \n",
    "            break\n",
    "    alen = len(arrayA)\n",
    "    bstartix = ix\n",
    "    output = []\n",
    "    for i,a in enumerate(arrayA):\n",
    "        new_array = [a]\n",
    "        for bi,b in enumerate(arrayB[bstartix:]):\n",
    "            \n",
    "\n",
    "            for num in range(0,2):\n",
    "                \n",
    "                \n",
    "                if not num:\n",
    "                    if arrayB[bstartix+bi] > new_array[-1]:\n",
    "                        new_array.append(arrayB[bstartix+bi])\n",
    "                        output.append(new_array)\n",
    "                    else:\n",
    "                        if len(new_array) > 1:\n",
    "                            output.append(new_array)\n",
    "                        new_array = [a]\n",
    "                        break\n",
    "                    \n",
    "                else:\n",
    "                    nextA = find_next(arrayA[i+1:],arrayB[bstartix+bi])\n",
    "                    if nextA:\n",
    "                        new_array.append(nextA)\n",
    "                        output.append(new_array)\n",
    "\n",
    "                    else:\n",
    "                        if len(new_array) > 1:\n",
    "                            output.append(new_array)\n",
    "                        break\n",
    "                        \n",
    "                   \n",
    "          \n",
    "        \n",
    "    return output\n",
    "\n",
    "def find_next(array,val):\n",
    "    for i in array:\n",
    "        if i > val:\n",
    "            return i\n",
    "    else:\n",
    "        return None\n",
    "        "
   ]
  },
  {
   "cell_type": "code",
   "execution_count": 340,
   "metadata": {},
   "outputs": [
    {
     "data": {
      "text/plain": [
       "[[10, 20, 25, 30],\n",
       " [10, 20, 25, 30],\n",
       " [10, 20, 25, 30],\n",
       " [10, 20, 25, 30],\n",
       " [15, 20, 25, 30],\n",
       " [15, 20, 25, 30],\n",
       " [15, 20, 25, 30],\n",
       " [15, 20, 25, 30],\n",
       " [25, 30],\n",
       " [25, 30]]"
      ]
     },
     "execution_count": 340,
     "metadata": {},
     "output_type": "execute_result"
    }
   ],
   "source": [
    "generate_all_possible_sorted_arrays([10,15,25],[1,5,20,30])"
   ]
  },
  {
   "cell_type": "code",
   "execution_count": 356,
   "metadata": {
    "collapsed": true
   },
   "outputs": [],
   "source": [
    "# Example: \n",
    "# Input:  arr[] = {4, 3, 7, 8, 6, 2, 1}\n",
    "# Output: arr[] = {3, 7, 4, 8, 2, 6, 1}\n",
    "\n",
    "def generate_zigzag(array):\n",
    "    bub = None\n",
    "    array_length = len(array)\n",
    "    for i in range(array_length -1):\n",
    "        if i %2 ==0:\n",
    "            if array[i] > array[i+1]:\n",
    "                array[i],array[i+1] = array[i+1],array[i]\n",
    "\n",
    "        else:\n",
    "            if array[i] < array[i+1]:\n",
    "                array[i],array[i+1] = array[i+1],array[i]\n",
    "\n",
    "    return array"
   ]
  },
  {
   "cell_type": "code",
   "execution_count": 357,
   "metadata": {},
   "outputs": [
    {
     "data": {
      "text/plain": [
       "[3, 7, 4, 8, 2, 6, 1]"
      ]
     },
     "execution_count": 357,
     "metadata": {},
     "output_type": "execute_result"
    }
   ],
   "source": [
    "generate_zigzag([4,3,7,8,6,2,1])"
   ]
  },
  {
   "cell_type": "code",
   "execution_count": 379,
   "metadata": {
    "collapsed": true
   },
   "outputs": [],
   "source": [
    "def pythag_triple(array):\n",
    "    squared = sorted([a**2 for a in array])\n",
    "    \n",
    "    trips = []\n",
    "    length = len(squared)\n",
    "    print(squared)\n",
    "    for i,s in enumerate(squared):\n",
    "        print(i)\n",
    "        l = i+1\n",
    "        r = len(squared) -1\n",
    "        while l< r:\n",
    "            if s + squared[l] == squared[r]:\n",
    "                return True\n",
    "            else:\n",
    "                if s + squared[l] < squared[r]:\n",
    "                    r -= 1\n",
    "                else:\n",
    "                    l += 1\n"
   ]
  },
  {
   "cell_type": "code",
   "execution_count": 378,
   "metadata": {},
   "outputs": [
    {
     "name": "stdout",
     "output_type": "stream",
     "text": [
      "[1, 9, 16, 36]\n",
      "0\n",
      "9 36\n",
      "9 16\n",
      "1\n",
      "16 36\n",
      "2\n",
      "3\n"
     ]
    }
   ],
   "source": [
    "pythag_triple([3,1,4,6])"
   ]
  },
  {
   "cell_type": "code",
   "execution_count": 404,
   "metadata": {
    "collapsed": true
   },
   "outputs": [],
   "source": [
    "def largest_continuous_subarray(array):\n",
    "    largest = 1\n",
    "    \n",
    "    for i in range (0,len(array)-1):\n",
    "        mx = array[i]\n",
    "        mn = array[i]\n",
    "        for j in range(i+1,len(array)):\n",
    "            \n",
    "            mx = max_num(mx,array[j])\n",
    "            mn = min_num(mn,array[j])\n",
    "            if mx-mn == j-i:\n",
    "                print(largest,mx,mn)\n",
    "                largest =  max_num(largest,mx-mn+1)\n",
    "    return largest\n",
    "                \n",
    "def max_num(a,b):\n",
    "    if b > a:\n",
    "        return b\n",
    "    else:\n",
    "        return a\n",
    "def min_num(a,b):\n",
    "    if b < a:\n",
    "        return b\n",
    "    else:\n",
    "        return a"
   ]
  },
  {
   "cell_type": "code",
   "execution_count": 405,
   "metadata": {},
   "outputs": [
    {
     "name": "stdout",
     "output_type": "stream",
     "text": [
      "1 58 56\n",
      "3 58 57\n",
      "3 94 90\n",
      "5 94 92\n",
      "5 94 91\n",
      "5 94 93\n"
     ]
    },
    {
     "data": {
      "text/plain": [
       "5"
      ]
     },
     "execution_count": 405,
     "metadata": {},
     "output_type": "execute_result"
    }
   ],
   "source": [
    "largest_continuous_subarray([1, 56, 58, 57, 90, 92, 94, 93, 91, 45])"
   ]
  },
  {
   "cell_type": "code",
   "execution_count": 521,
   "metadata": {
    "collapsed": true
   },
   "outputs": [],
   "source": [
    "def best_stock_margin(array):\n",
    "    buy = 0\n",
    "    sell = 0\n",
    "    best = 0\n",
    "    for i,val in enumerate(array):\n",
    "        for j in range(i+1,len(array)):\n",
    "            if best < array[j]-array[i]:\n",
    "                buy = i\n",
    "                sell = j\n",
    "                best = array[j] - array[i]\n",
    "    return best,buy,sell\n",
    "\n",
    "def best_stock_recurs(array):\n",
    "    print(array)\n",
    "    if len(array) <= 1:\n",
    "        return 0\n",
    "    slice = int(len(array)/2)\n",
    "    left = array[slice:]\n",
    "    right = array[:slice]\n",
    "    \n",
    "    best_left = best_stock_recurs(left)\n",
    "    best_right = best_stock_recurs(right)\n",
    "    \n",
    "    diff = max(right) - min(left)\n",
    "    return max(best_left,best_right,diff)\n",
    "\n",
    "def best_stock_dynam(array):\n",
    "    profit = 0\n",
    "    minim = array[0]\n",
    "    for i in range(len(array)):\n",
    "        if array[i] < minim:\n",
    "            minim = min(minim,array[i])\n",
    "        profit = max(profit,array[i]-minim)\n",
    "    return profit"
   ]
  },
  {
   "cell_type": "code",
   "execution_count": 522,
   "metadata": {},
   "outputs": [
    {
     "name": "stdout",
     "output_type": "stream",
     "text": [
      "[100, 180, 260, 310, 40, 535, 100, 695]\n",
      "[40, 535, 100, 695]\n",
      "[100, 695]\n",
      "[695]\n",
      "[100]\n",
      "[40, 535]\n",
      "[535]\n",
      "[40]\n",
      "[100, 180, 260, 310]\n",
      "[260, 310]\n",
      "[310]\n",
      "[260]\n",
      "[100, 180]\n",
      "[180]\n",
      "[100]\n"
     ]
    },
    {
     "data": {
      "text/plain": [
       "435"
      ]
     },
     "execution_count": 522,
     "metadata": {},
     "output_type": "execute_result"
    }
   ],
   "source": [
    "best_stock_recurs([100, 180, 260, 310, 40, 535, 100,695])"
   ]
  },
  {
   "cell_type": "code",
   "execution_count": 471,
   "metadata": {
    "collapsed": true
   },
   "outputs": [],
   "source": [
    "def smallest_int_not_a_sum(array):\n",
    "    smallest = 1\n",
    "    for i,a in enumerate(array):\n",
    "        if a <= smallest:\n",
    "            smallest += a\n",
    "        else:\n",
    "            break\n",
    "    print(smallest)"
   ]
  },
  {
   "cell_type": "code",
   "execution_count": 475,
   "metadata": {},
   "outputs": [
    {
     "name": "stdout",
     "output_type": "stream",
     "text": [
      "4\n"
     ]
    }
   ],
   "source": [
    "smallest_int_not_a_sum([1,2,5,6,7,10])"
   ]
  },
  {
   "cell_type": "code",
   "execution_count": 487,
   "metadata": {},
   "outputs": [
    {
     "data": {
      "text/plain": [
       "12"
      ]
     },
     "execution_count": 487,
     "metadata": {},
     "output_type": "execute_result"
    }
   ],
   "source": [
    "def two_num_sum_closest_to_zero(array):\n",
    "    sm = abs(array[0]+array[1])\n",
    "    sort = sorted(array)\n",
    "    for i,s in enumerate(sort):\n",
    "        if s > 0:\n",
    "            return min(sm,abs(sort[i+1]+s))\n",
    "        else:\n",
    "            l = i+1\n",
    "            r = len(sort) -1\n",
    "            while l < r:\n",
    "                if abs(s + sort[l]) < sm:\n",
    "                    sm = abs(s+sort[l])\n",
    "                    l += 1\n",
    "                elif abs(s+sort[r]) < sm:\n",
    "                    sm = abs(s+sort[r])\n",
    "                    r -= 1\n",
    "                else:\n",
    "                    l += 1\n",
    "                    r -= 1\n",
    "    return sm\n",
    "\n",
    "two_num_sum_closest_to_zero([-100,-80,-50,5,7,200])"
   ]
  },
  {
   "cell_type": "code",
   "execution_count": 488,
   "metadata": {
    "collapsed": true
   },
   "outputs": [],
   "source": [
    "def best_stock(array):\n",
    "    profit = 0\n",
    "    mn = array[0]\n",
    "    \n",
    "    for i in array[1:]:\n",
    "        if i < mn:\n",
    "            mn = i\n",
    "        profit = max(profit,i-mn)\n",
    "    return profit"
   ]
  },
  {
   "cell_type": "code",
   "execution_count": 523,
   "metadata": {},
   "outputs": [],
   "source": [
    "def best_stock_recursive(array):\n",
    "    length = len(array)\n",
    "    if len(array) <= 1:\n",
    "        return 0\n",
    "    mid = int(length/2)\n",
    "    \n",
    "    left = array[:mid]\n",
    "    right = array[mid:]\n",
    "    print(left,right)\n",
    "    \n",
    "    best_left = best_stock_recursive(left)\n",
    "    best_right = best_stock_recursive(right)\n",
    "    profit = max(right) - min(left)\n",
    "    return max(best_left,best_right,profit)"
   ]
  },
  {
   "cell_type": "code",
   "execution_count": 525,
   "metadata": {},
   "outputs": [
    {
     "name": "stdout",
     "output_type": "stream",
     "text": [
      "[100, 180, 260, 310] [40, 535, 100, 630]\n",
      "[100, 180] [260, 310]\n",
      "[100] [180]\n",
      "[260] [310]\n",
      "[40, 535] [100, 630]\n",
      "[40] [535]\n",
      "[100] [630]\n"
     ]
    },
    {
     "data": {
      "text/plain": [
       "590"
      ]
     },
     "execution_count": 525,
     "metadata": {},
     "output_type": "execute_result"
    }
   ],
   "source": [
    "best_stock_recursive([100, 180, 260, 310, 40, 535, 100,630])"
   ]
  },
  {
   "cell_type": "code",
   "execution_count": null,
   "metadata": {
    "collapsed": true
   },
   "outputs": [],
   "source": []
  }
 ],
 "metadata": {
  "kernelspec": {
   "display_name": "Python 3",
   "language": "python",
   "name": "python3"
  },
  "language_info": {
   "codemirror_mode": {
    "name": "ipython",
    "version": 3
   },
   "file_extension": ".py",
   "mimetype": "text/x-python",
   "name": "python",
   "nbconvert_exporter": "python",
   "pygments_lexer": "ipython3",
   "version": "3.6.1"
  }
 },
 "nbformat": 4,
 "nbformat_minor": 2
}
