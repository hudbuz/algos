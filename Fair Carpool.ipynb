{
 "cells": [
  {
   "cell_type": "code",
   "execution_count": 53,
   "metadata": {
    "collapsed": true
   },
   "outputs": [],
   "source": [
    "from functools import reduce\n",
    "def lcm(a,b):\n",
    "    return a * b // gcd(a,b)\n",
    "   "
   ]
  },
  {
   "cell_type": "code",
   "execution_count": 54,
   "metadata": {
    "collapsed": true
   },
   "outputs": [],
   "source": [
    "def gcd(a,b):\n",
    "    if a == b:\n",
    "        return a\n",
    "    elif a%b ==0:\n",
    "        return b\n",
    "    elif b%a == 0:\n",
    "        return a\n",
    "    else:\n",
    "        \n",
    "        while b != 0:\n",
    "            gd = b\n",
    "            b = a % b\n",
    "            a = gd\n",
    "    return gd"
   ]
  },
  {
   "cell_type": "code",
   "execution_count": 66,
   "metadata": {},
   "outputs": [],
   "source": [
    "def lcm_list(num_list):\n",
    "    a = iter(num_list)\n",
    "    b = next(a)\n",
    "    \n",
    "    for element in a:\n",
    "        b = lcm(element,b)\n",
    "    return b\n",
    "    "
   ]
  },
  {
   "cell_type": "code",
   "execution_count": 68,
   "metadata": {},
   "outputs": [
    {
     "data": {
      "text/plain": [
       "20"
      ]
     },
     "execution_count": 68,
     "metadata": {},
     "output_type": "execute_result"
    }
   ],
   "source": [
    "lcm_list([5,10,20])"
   ]
  },
  {
   "cell_type": "code",
   "execution_count": 50,
   "metadata": {},
   "outputs": [
    {
     "data": {
      "text/plain": [
       "4"
      ]
     },
     "execution_count": 50,
     "metadata": {},
     "output_type": "execute_result"
    }
   ],
   "source": []
  },
  {
   "cell_type": "code",
   "execution_count": 6,
   "metadata": {},
   "outputs": [
    {
     "data": {
      "text/plain": [
       "216.0"
      ]
     },
     "execution_count": 6,
     "metadata": {},
     "output_type": "execute_result"
    }
   ],
   "source": [
    "432/2"
   ]
  },
  {
   "cell_type": "code",
   "execution_count": 7,
   "metadata": {},
   "outputs": [
    {
     "data": {
      "text/plain": [
       "0.21428571428571427"
      ]
     },
     "execution_count": 7,
     "metadata": {},
     "output_type": "execute_result"
    }
   ],
   "source": [
    "6/28"
   ]
  },
  {
   "cell_type": "code",
   "execution_count": 8,
   "metadata": {},
   "outputs": [
    {
     "data": {
      "text/plain": [
       "6"
      ]
     },
     "execution_count": 8,
     "metadata": {},
     "output_type": "execute_result"
    }
   ],
   "source": [
    "6%28"
   ]
  },
  {
   "cell_type": "code",
   "execution_count": 69,
   "metadata": {
    "collapsed": true
   },
   "outputs": [],
   "source": [
    "def lcm(a,b):\n",
    "    return a*b // gcd(a,b)\n",
    "\n",
    "def gcd(a,b):\n",
    "    if a == b:\n",
    "        return a\n",
    "    elif a%b==0:\n",
    "        return b\n",
    "    elif b%a == 0:\n",
    "        return a\n",
    "    else:\n",
    "        while b !=0:\n",
    "            gd = b\n",
    "            b = a%b\n",
    "            a = gd\n",
    "        return gd\n",
    "def lcmm(num_array):\n",
    "    a = iter(num_array)\n",
    "    b = next(a)\n",
    "    \n",
    "    for i in a:\n",
    "        b = lcm(i,b)\n",
    "    return b"
   ]
  },
  {
   "cell_type": "code",
   "execution_count": 72,
   "metadata": {},
   "outputs": [
    {
     "data": {
      "text/plain": [
       "539"
      ]
     },
     "execution_count": 72,
     "metadata": {},
     "output_type": "execute_result"
    }
   ],
   "source": [
    "lcmm([49,77])"
   ]
  },
  {
   "cell_type": "code",
   "execution_count": 157,
   "metadata": {
    "collapsed": true
   },
   "outputs": [],
   "source": [
    "class Carpool:\n",
    "    def __init__(self,members):\n",
    "        self.members = members\n",
    "    \n",
    "    \n",
    "    def get_next_driver(self,members,length):\n",
    "        member = members[random.randint(0,length-1)]\n",
    "        for m in members:\n",
    "            if m.score < member.score:\n",
    "                member = m\n",
    "                \n",
    "        return member\n",
    "    \n",
    "#     def go_to_work(self,members):\n",
    "#         number_of_members = len(members)\n",
    "\n",
    "#         driver = self.get_next_driver(members,number_of_members)\n",
    "#         driver.score += lcmm([i for i in range(1,number_of_members+1)])*(number_of_members-1)/number_of_members\n",
    "#         for m in members:\n",
    "#             if not m is driver:\n",
    "#                 m.score -= lcmm([i for i in range(1,number_of_members+1)])/number_of_members\n",
    "    def go_to_work(self,members):\n",
    "        number_of_members = len(members)\n",
    "\n",
    "        driver = self.get_next_driver(members,number_of_members)\n",
    "        driver.score += 1\n",
    "        for m in members:\n",
    "            if not m is driver:\n",
    "                m.score -= 1/(number_of_members-1)\n",
    "        \n",
    "                \n",
    "class Carpooler:\n",
    "    def __init__(self,name):\n",
    "        self.score = 0\n",
    "        self.name = name\n",
    "        \n",
    "    "
   ]
  },
  {
   "cell_type": "code",
   "execution_count": 158,
   "metadata": {
    "collapsed": true
   },
   "outputs": [],
   "source": [
    "matthew = Carpooler(name='Matthew')\n",
    "mark = Carpooler(name='Mark')\n",
    "luke = Carpooler(name='Luke')\n",
    "john = Carpooler(name='John')\n"
   ]
  },
  {
   "cell_type": "code",
   "execution_count": 159,
   "metadata": {
    "collapsed": true
   },
   "outputs": [],
   "source": [
    "cp = Carpool([matthew,mark,luke,john])"
   ]
  },
  {
   "cell_type": "code",
   "execution_count": 179,
   "metadata": {},
   "outputs": [],
   "source": [
    "cp.go_to_work(members=[matthew,mark,john])"
   ]
  },
  {
   "cell_type": "code",
   "execution_count": 144,
   "metadata": {},
   "outputs": [],
   "source": [
    "import random"
   ]
  },
  {
   "cell_type": "code",
   "execution_count": 181,
   "metadata": {},
   "outputs": [
    {
     "data": {
      "text/plain": [
       "1.1102230246251565e-16"
      ]
     },
     "execution_count": 181,
     "metadata": {},
     "output_type": "execute_result"
    }
   ],
   "source": [
    "mark.score"
   ]
  },
  {
   "cell_type": "markdown",
   "metadata": {},
   "source": [
    "luke.score"
   ]
  },
  {
   "cell_type": "code",
   "execution_count": 176,
   "metadata": {},
   "outputs": [
    {
     "data": {
      "text/plain": [
       "5.551115123125783e-17"
      ]
     },
     "execution_count": 176,
     "metadata": {},
     "output_type": "execute_result"
    }
   ],
   "source": [
    "luke.score"
   ]
  },
  {
   "cell_type": "code",
   "execution_count": 182,
   "metadata": {},
   "outputs": [
    {
     "data": {
      "text/plain": [
       "0.0"
      ]
     },
     "execution_count": 182,
     "metadata": {},
     "output_type": "execute_result"
    }
   ],
   "source": [
    "john.score"
   ]
  },
  {
   "cell_type": "code",
   "execution_count": 183,
   "metadata": {},
   "outputs": [
    {
     "data": {
      "text/plain": [
       "1.1102230246251565e-16"
      ]
     },
     "execution_count": 183,
     "metadata": {},
     "output_type": "execute_result"
    }
   ],
   "source": [
    "matthew.score"
   ]
  },
  {
   "cell_type": "code",
   "execution_count": null,
   "metadata": {
    "collapsed": true
   },
   "outputs": [],
   "source": []
  }
 ],
 "metadata": {
  "kernelspec": {
   "display_name": "Python 3",
   "language": "python",
   "name": "python3"
  },
  "language_info": {
   "codemirror_mode": {
    "name": "ipython",
    "version": 3
   },
   "file_extension": ".py",
   "mimetype": "text/x-python",
   "name": "python",
   "nbconvert_exporter": "python",
   "pygments_lexer": "ipython3",
   "version": "3.6.1"
  }
 },
 "nbformat": 4,
 "nbformat_minor": 2
}
